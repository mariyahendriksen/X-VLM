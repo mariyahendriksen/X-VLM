{
 "cells": [
  {
   "cell_type": "code",
   "execution_count": 5,
   "metadata": {},
   "outputs": [],
   "source": [
    "import sys\n",
    "sys.path.append('/Users/mhendriksen/Desktop/repositories/X-VLM')"
   ]
  },
  {
   "cell_type": "code",
   "execution_count": 7,
   "metadata": {},
   "outputs": [],
   "source": [
    "from models.tokenization_bert import BertTokenizer\n",
    "\n",
    "tokenizer = BertTokenizer.from_pretrained('bert-base-uncased')"
   ]
  },
  {
   "cell_type": "code",
   "execution_count": 23,
   "metadata": {},
   "outputs": [],
   "source": [
    "path = '/Users/mhendriksen/Desktop/repositories/X-VLM/data/finetune/coco_train.json'\n",
    "\n",
    "import json\n",
    "\n",
    "with open(path, 'r') as f:\n",
    "    json_train = json.load(f)"
   ]
  },
  {
   "cell_type": "code",
   "execution_count": 18,
   "metadata": {},
   "outputs": [],
   "source": [
    "path = '/Users/mhendriksen/Desktop/repositories/X-VLM/data/finetune/coco_test.json'\n",
    "\n",
    "import json\n",
    "\n",
    "with open(path, 'r') as f:\n",
    "    json_test = json.load(f)"
   ]
  },
  {
   "cell_type": "code",
   "execution_count": 20,
   "metadata": {},
   "outputs": [],
   "source": [
    "path = '/Users/mhendriksen/Desktop/repositories/X-VLM/data/finetune/coco_val.json'\n",
    "\n",
    "import json\n",
    "\n",
    "with open(path, 'r') as f:\n",
    "    json_val = json.load(f)"
   ]
  },
  {
   "cell_type": "code",
   "execution_count": 27,
   "metadata": {},
   "outputs": [
    {
     "data": {
      "text/plain": [
       "{'caption': 'a little boy wearing headphones and looking at a computer monitor',\n",
       " 'image': 'val2014/COCO_val2014_000000318219.jpg',\n",
       " 'image_id': 'coco_318219'}"
      ]
     },
     "execution_count": 27,
     "metadata": {},
     "output_type": "execute_result"
    }
   ],
   "source": [
    "json_train[6]"
   ]
  },
  {
   "cell_type": "code",
   "execution_count": 26,
   "metadata": {},
   "outputs": [
    {
     "data": {
      "text/plain": [
       "{'image': 'val2014/COCO_val2014_000000391895.jpg',\n",
       " 'caption': ['A man with a red helmet on a small moped on a dirt road. ',\n",
       "  'Man riding a motor bike on a dirt road on the countryside.',\n",
       "  'A man riding on the back of a motorcycle.',\n",
       "  'A dirt path with a young person on a motor bike rests to the foreground of a verdant area with a bridge and a background of cloud-wreathed mountains. ',\n",
       "  'A man in a red shirt and a red hat is on a motorcycle on a hill side.']}"
      ]
     },
     "execution_count": 26,
     "metadata": {},
     "output_type": "execute_result"
    }
   ],
   "source": [
    "json_test[0]"
   ]
  },
  {
   "cell_type": "code",
   "execution_count": 38,
   "metadata": {},
   "outputs": [
    {
     "data": {
      "text/plain": [
       "False"
      ]
     },
     "execution_count": 38,
     "metadata": {},
     "output_type": "execute_result"
    }
   ],
   "source": [
    "os.path.isdir('deliverables/models/best_model_CUB_30E_128BS.pt')"
   ]
  },
  {
   "cell_type": "code",
   "execution_count": 39,
   "metadata": {},
   "outputs": [
    {
     "data": {
      "text/plain": [
       "True"
      ]
     },
     "execution_count": 39,
     "metadata": {},
     "output_type": "execute_result"
    }
   ],
   "source": [
    "'/' in 'deliverables/models/best_model_CUB_30E_128BS.pt'"
   ]
  }
 ],
 "metadata": {
  "kernelspec": {
   "display_name": "Python 3.7.13 ('xvlm')",
   "language": "python",
   "name": "python3"
  },
  "language_info": {
   "codemirror_mode": {
    "name": "ipython",
    "version": 3
   },
   "file_extension": ".py",
   "mimetype": "text/x-python",
   "name": "python",
   "nbconvert_exporter": "python",
   "pygments_lexer": "ipython3",
   "version": "3.7.13"
  },
  "orig_nbformat": 4,
  "vscode": {
   "interpreter": {
    "hash": "b8f427d99801431c3852b5d6c9aa049fa28fedbd8672e31e663d4278c439cfda"
   }
  }
 },
 "nbformat": 4,
 "nbformat_minor": 2
}
