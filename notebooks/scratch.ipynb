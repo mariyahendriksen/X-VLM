{
 "cells": [
  {
   "cell_type": "code",
   "execution_count": 61,
   "metadata": {},
   "outputs": [],
   "source": [
    "import sys\n",
    "sys.path.append('/Users/mhendriksen/Desktop/repositories/X-VLM')"
   ]
  },
  {
   "cell_type": "code",
   "execution_count": 62,
   "metadata": {},
   "outputs": [
    {
     "name": "stderr",
     "output_type": "stream",
     "text": [
      "/Users/mhendriksen/opt/anaconda3/envs/xvlm/lib/python3.7/site-packages/tqdm/auto.py:22: TqdmWarning: IProgress not found. Please update jupyter and ipywidgets. See https://ipywidgets.readthedocs.io/en/stable/user_install.html\n",
      "  from .autonotebook import tqdm as notebook_tqdm\n"
     ]
    }
   ],
   "source": [
    "from models.tokenization_bert import BertTokenizer\n",
    "\n",
    "tokenizer = BertTokenizer.from_pretrained('bert-base-uncased')"
   ]
  },
  {
   "cell_type": "code",
   "execution_count": 63,
   "metadata": {},
   "outputs": [
    {
     "data": {
      "text/plain": [
       "PreTrainedTokenizer(name_or_path='bert-base-uncased', vocab_size=30522, model_max_len=512, is_fast=False, padding_side='right', special_tokens={'unk_token': '[UNK]', 'sep_token': '[SEP]', 'pad_token': '[PAD]', 'cls_token': '[CLS]', 'mask_token': '[MASK]'})"
      ]
     },
     "execution_count": 63,
     "metadata": {},
     "output_type": "execute_result"
    }
   ],
   "source": [
    "tokenizer"
   ]
  },
  {
   "cell_type": "code",
   "execution_count": 1,
   "metadata": {},
   "outputs": [],
   "source": [
    "path = '/Users/mhendriksen/Desktop/repositories/X-VLM/data/finetune/coco_train.json'\n",
    "\n",
    "import json\n",
    "\n",
    "with open(path, 'r') as f:\n",
    "    json_train = json.load(f)"
   ]
  },
  {
   "cell_type": "code",
   "execution_count": 2,
   "metadata": {},
   "outputs": [],
   "source": [
    "path = '/Users/mhendriksen/Desktop/repositories/X-VLM/data/finetune/coco_test.json'\n",
    "\n",
    "import json\n",
    "\n",
    "with open(path, 'r') as f:\n",
    "    json_test = json.load(f)"
   ]
  },
  {
   "cell_type": "code",
   "execution_count": 3,
   "metadata": {},
   "outputs": [],
   "source": [
    "path = '/Users/mhendriksen/Desktop/repositories/X-VLM/data/finetune/coco_val.json'\n",
    "\n",
    "import json\n",
    "\n",
    "with open(path, 'r') as f:\n",
    "    json_val = json.load(f)"
   ]
  },
  {
   "cell_type": "code",
   "execution_count": 45,
   "metadata": {},
   "outputs": [
    {
     "data": {
      "text/plain": [
       "list"
      ]
     },
     "execution_count": 45,
     "metadata": {},
     "output_type": "execute_result"
    }
   ],
   "source": []
  },
  {
   "cell_type": "code",
   "execution_count": 4,
   "metadata": {},
   "outputs": [
    {
     "data": {
      "text/plain": [
       "{'caption': 'a little boy wearing headphones and looking at a computer monitor',\n",
       " 'image': 'val2014/COCO_val2014_000000318219.jpg',\n",
       " 'image_id': 'coco_318219'}"
      ]
     },
     "execution_count": 4,
     "metadata": {},
     "output_type": "execute_result"
    }
   ],
   "source": [
    "json_train[6]"
   ]
  },
  {
   "cell_type": "code",
   "execution_count": 5,
   "metadata": {},
   "outputs": [
    {
     "data": {
      "text/plain": [
       "{'image': 'val2014/COCO_val2014_000000391895.jpg',\n",
       " 'caption': ['A man with a red helmet on a small moped on a dirt road. ',\n",
       "  'Man riding a motor bike on a dirt road on the countryside.',\n",
       "  'A man riding on the back of a motorcycle.',\n",
       "  'A dirt path with a young person on a motor bike rests to the foreground of a verdant area with a bridge and a background of cloud-wreathed mountains. ',\n",
       "  'A man in a red shirt and a red hat is on a motorcycle on a hill side.']}"
      ]
     },
     "execution_count": 5,
     "metadata": {},
     "output_type": "execute_result"
    }
   ],
   "source": [
    "json_test[0]"
   ]
  },
  {
   "cell_type": "code",
   "execution_count": 6,
   "metadata": {},
   "outputs": [
    {
     "data": {
      "text/plain": [
       "{'image': 'val2014/COCO_val2014_000000129001.jpg',\n",
       " 'caption': ['A bath tub sitting next to a sink in a bathroom.',\n",
       "  'The bathroom is clean and ready for us to use.',\n",
       "  'a bath tub sitting next to a sink ',\n",
       "  'A bathroom that has a shower curtain over a bathtub.',\n",
       "  'A bathroom with multicolored tile, bathtub and pedestal sink.']}"
      ]
     },
     "execution_count": 6,
     "metadata": {},
     "output_type": "execute_result"
    }
   ],
   "source": [
    "json_val[6]"
   ]
  },
  {
   "cell_type": "code",
   "execution_count": 79,
   "metadata": {},
   "outputs": [
    {
     "name": "stdout",
     "output_type": "stream",
     "text": [
      "Ttest_indResult(statistic=0.6002719727536567, pvalue=0.5490114089287311)\n"
     ]
    }
   ],
   "source": [
    "import numpy as np\n",
    "from scipy.stats import ttest_ind\n",
    "\n",
    "\n",
    "\n",
    "v1 = np.random.normal(size=100)\n",
    "v2 = np.random.normal(size=100)\n",
    "\n",
    "res = ttest_ind(v1, v2)\n",
    "\n",
    "print(res)"
   ]
  },
  {
   "cell_type": "code",
   "execution_count": 100,
   "metadata": {},
   "outputs": [],
   "source": [
    "path = '/Users/mhendriksen/Desktop/repositories/X-VLM/shopping_queries_dataset_examples.parquet'\n",
    "\n",
    "\n",
    "import pandas as pd\n",
    "\n",
    "df=pd.read_parquet(path)\n"
   ]
  },
  {
   "cell_type": "code",
   "execution_count": 104,
   "metadata": {},
   "outputs": [
    {
     "data": {
      "text/plain": [
       "[' revent 80 cfm',\n",
       " '!awnmower tires without rims',\n",
       " '!qscreen fence without holes',\n",
       " '!solid camiseta sin manga',\n",
       " '\"vitamina c\"',\n",
       " '# 10 self-seal envelopes without window',\n",
       " '# 2 pencils not sharpened',\n",
       " '# cellist thats not a hashtag',\n",
       " '# do not disturb',\n",
       " '# mom life',\n",
       " '# sharp not hashtag shirt',\n",
       " '#1 best and not expensive bath back brush cream color',\n",
       " '#1 black natural hair dye without ammonia or peroxide',\n",
       " '#1 rated resveratrol supplement without tea leaves',\n",
       " '#1 selling shoes for men without shoeleases',\n",
       " '#1 small corded treadmill without remote control',\n",
       " '#10 cans applesauce',\n",
       " '#10 envelopes self seal',\n",
       " '#10 envelopes without security tint',\n",
       " '#10 standard no tint no window not self seal',\n",
       " '#10 window envelopes not self seal',\n",
       " '#10 window envelopes without plastic',\n",
       " '#11 mrs. kormel is not normal',\n",
       " '#12 black boys chain necklace without baseball stitches',\n",
       " '#14 x 1-1/2 stainless self tapping',\n",
       " '#15 charm',\n",
       " '#2 dixon oriole pencils not sharpened',\n",
       " '#2 pencils',\n",
       " '#2 pencils with erasers sharpened not soft',\n",
       " '#2 pencils without erasers',\n",
       " '#20 paper bags without handle',\n",
       " '#27 rubio oscuro extensiones sin clip',\n",
       " '#3 metal zipper slider not made in america',\n",
       " '#4 braiding hair not stretched',\n",
       " '#4 pads without wings',\n",
       " '#5 coil zipper without lock',\n",
       " '#5 machine screws',\n",
       " '#5 orb to not fitting',\n",
       " '#5 pull cord',\n",
       " '#5 zipper tape without pulls',\n",
       " '#6 fishing hook without barb',\n",
       " '#68 do not fuplicate key',\n",
       " '#8 merchandising tags without string',\n",
       " '#8 phillips head wood screws',\n",
       " '#8 tags without string',\n",
       " '#82 jewelry box without cotton',\n",
       " '#9x5\" wood screws',\n",
       " '#do not disturb, jeidah bila',\n",
       " '#followme ultra soft velour robe without hood for men',\n",
       " '#hydrate not dydrate',\n",
       " '#i am not chinese',\n",
       " '#i may not look like diesel decals',\n",
       " '#metoo not you',\n",
       " '#pinkandproud not sorry glitter lipstick',\n",
       " '#stuccoville life without a net',\n",
       " '#this is not a truck decals',\n",
       " '#try not to suck tshirt',\n",
       " '$0.00 not kindleunlimited',\n",
       " '$1',\n",
       " '$1 dollar toys not fidgets',\n",
       " '$1 first addition charizard not fake',\n",
       " '$1 items for men',\n",
       " '$1 million that look real but that is not it',\n",
       " '$1 stuffed toy',\n",
       " '$10 amazon prime not prime wardrobe sweatpaants',\n",
       " '$10 blanket',\n",
       " '$10 candles',\n",
       " '$10 credit not given on purchase on prime day',\n",
       " '$10 gold eagle',\n",
       " '$10 lol literally not gonna change baby pet lol',\n",
       " '$10 magnetic eyelashes without eyeliner',\n",
       " '$10 stuff not books',\n",
       " '$100 things that are not electronics',\n",
       " '$11 fidget please just please $11 not 25 not',\n",
       " '$12 label maker that’s not a cheap one',\n",
       " '$13 bb guns without a yellow tube',\n",
       " '$13 fidget toys without paying for delivery',\n",
       " '$139 one cup cousy not coffee maker',\n",
       " '$15 doller bb guns not spring powered',\n",
       " '$15 fidget pack without the pea poppet',\n",
       " '$150 laptop not previews',\n",
       " '$175 gram led frisbee gram not dollar',\n",
       " '$2 pop tube not a pack',\n",
       " '$20 not credible dog pool rectangular',\n",
       " '$20 off for amazon app not applied',\n",
       " '$20 rectangular not inflatable pool 26 i',\n",
       " '$20 vr headset without controller',\n",
       " '$230 pool for outdoors not plastic',\n",
       " '$25 apple gift card not email',\n",
       " '$25 ceiling fan without lights',\n",
       " '$25 katana swords not real',\n",
       " '$25 xbox gift card not digital',\n",
       " '$275 airsoft guns',\n",
       " '$3 nail tips without tax',\n",
       " '$30 roblox gift card not digital',\n",
       " '$35 bay casting left handed pole that does not do backlash',\n",
       " '$3what can you buy without siri dollar toy',\n",
       " '$4 worthy items not books',\n",
       " '$40 bean bag chair for adults with bean not included',\n",
       " \"$44red ' phone without having to pay production\",\n",
       " '$5 items',\n",
       " '$50 gifts for men',\n",
       " '$50 not accepted',\n",
       " '$50 skateboard without waxing music',\n",
       " '$50 visa gift cards without fees',\n",
       " '$60 ps4 that’s not gonna be on amazon',\n",
       " '$75 visa gift card email delivery without a fee',\n",
       " '$80 golf cart without roof',\n",
       " '$90 iphone not chage',\n",
       " '$not without hoodie',\n",
       " '% pura manteca de karite sin aditivos sin olor',\n",
       " '%100 silicone not clear',\n",
       " '&#34;bed swing without stand&#34;',\n",
       " '&#34;tortillas without interesterified soybean oil”',\n",
       " \"&#34;we're in the army not in the navy&#34;\",\n",
       " '&a pedicure spa parts, pop-up drain plug without strainer',\n",
       " '&ハニー シャンプー',\n",
       " \"''i am here for a good time not a log time'' sticker\",\n",
       " \"''i'm not retired i'm a professional grandpa''\",\n",
       " \"''im not retired im a professional grandpa'' shirt\",\n",
       " \"''surfring not teaching'' tshirt\",\n",
       " \"'32 qt storage bins without lids'\",\n",
       " \"'72 nova instument panel without gauges\",\n",
       " \"'74ジェイルブレイク\\u3000ac/dc\",\n",
       " \"'all-star' jordan why not zer0.2\",\n",
       " \"'but not the hippopotamus book\",\n",
       " \"'cause not everyone can get into lehigh\",\n",
       " \"'deliveries and packages not accepted' sign\",\n",
       " \"'do it with passion or not at all'\",\n",
       " \"'do not leave deliveries or packages' sign\",\n",
       " \"'el verano sin hombres'\",\n",
       " \"'forget me not i' 2 piece framed print\",\n",
       " \"'freeze dryer' machine not dehydrator\",\n",
       " \"'god is not great' by christopher hitchens\",\n",
       " \"'grinch ornaments'\",\n",
       " \"'i am not crazy juste think differently' tshirt\",\n",
       " \"'i'm tired' 'i'm not tired' tshirts\",\n",
       " \"'is everyone hanging out without me?\",\n",
       " \"'it's not a diet.' davinia taylor\",\n",
       " \"'just a regular mom trying not to raise liberals' tshirt\",\n",
       " \"'live without you\",\n",
       " \"'love not perfect inspirational family' canvas\",\n",
       " \"'m not judging you i'm a social worker i'm diagnosing you\",\n",
       " \"'m not sleeping i'm just resting my eyes shirt\",\n",
       " \"'m team jesus i'm not religious shirt\",\n",
       " \"'m tired of waking up and not being in hawaii\",\n",
       " \"'may not be perfect' canvas\",\n",
       " \"'module' object is not callable\",\n",
       " \"'moment case' for iphone 7 not the plus\",\n",
       " \"'not my circus not my monkeys my monkeys flyshirt'\",\n",
       " \"'oh no not you again' door mat\",\n",
       " \"'please do not ring doorbell sign\",\n",
       " \"'re not deal for t-shirt\",\n",
       " \"'see the possibility not the problem' textual canvas\",\n",
       " \"'some will not sleep\",\n",
       " \"'suavizante sin olor'\",\n",
       " \"'sunglass readers for women not bifocals'\",\n",
       " \"'thou shalt not try me' relaxed-fit tee - women & plus\",\n",
       " \"'vaccinated, because i'm not an idiot' t shirt\",\n",
       " \"'vitenzi sunglass full readers for women not bifocals'\",\n",
       " \"'why not me?' by mindy kaling\",\n",
       " \"'you're not 40' - funny birthday card\",\n",
       " '( brand-satisfyer-pro2 not womanizer )',\n",
       " '(...or, when the revolution could not be televised)',\n",
       " '(8 pack) for not samsung galaxy a71 5g case',\n",
       " '(8 pck, one without packaging ) umbra single',\n",
       " '(can not use in the usa) european 220voltage hair tools',\n",
       " \"(can't live without your) love and affection nelson\",\n",
       " '(clavo sin cabeza) 0,6',\n",
       " '(ficción sin límites)',\n",
       " '(fiction without frontiers)',\n",
       " '(hearing aid not amplifer)',\n",
       " '(hue2 lighting controller not included)',\n",
       " '(i gues that part not thrue)',\n",
       " '(if you’re not in it for love) i’m outta here!',\n",
       " '(i’m not your) steppin’ stone',\n",
       " '(metros) bandera españa sin escudo',\n",
       " '(p_num: integer not null i_num: integer not null',\n",
       " '(print on back) we are not descended from fearful men decal',\n",
       " '(pvc not wood) peel and stick banding',\n",
       " '(r. m. sainsbury, reference without referents',\n",
       " '(rascal does not dream (manga), 3)',\n",
       " '(the scale does not lie, people do)',\n",
       " '(the) substitute 4: failure is not an option',\n",
       " '(thermos funtainer without the handle on the lid) - 2 pack',\n",
       " '(travel size) juillet has a gun perfume not a perfume',\n",
       " '(usb-c cable and lightning cable not included',\n",
       " '(ventilador sin aspas para el hogar,',\n",
       " '(zero) days without a bad dad joke',\n",
       " '(éxito y productividad sin límites',\n",
       " '(マックバースト） mach burst 軽い コンフォート 穴開き スポーツ サドル 痛くない (ブラック×ブラック)',\n",
       " '(知っていることはあまりないけれど)家族です',\n",
       " ') pkg. wipes without bleach',\n",
       " ') vintage surely not everyone was kung fu fighting',\n",
       " '* batteries not included',\n",
       " \"** m'renee allen | do not disturb\",\n",
       " '**used is always not only okay but encouraged**',\n",
       " '*americanized: rebel without a green card by sara saedi',\n",
       " '*cancer free thyroid not included*shirt',\n",
       " '*i have gone 0 days without making a dad joke* shirt',\n",
       " \"*i'm gaming do not disturb*shirt\",\n",
       " \"*i'm not skilled but my dog thinks so*\",\n",
       " '*its not easy being my wifes arm candy* shirt',\n",
       " \"*monday's not coming\",\n",
       " '*racism without racists',\n",
       " '*return--patron does not need* dimensions of ring theory /',\n",
       " '*smoke brisket not meth* shirt',\n",
       " '+ 200 bifocal glasses without line for men',\n",
       " '+ aspirador sin bolsa',\n",
       " '+*4oz* && *clear* dropper not blue',\n",
       " '+3 dioptrias lente sin montar',\n",
       " '+3/4 sleeve for women not plus',\n",
       " '+4x2 raised garden bed not fabric',\n",
       " '+aspiradoras sin cable para parket',\n",
       " '+black +cardboard not foam',\n",
       " '+cachimba sin nicotina',\n",
       " '+chaqueta de cocina sin mangas',\n",
       " '+crunchy peanuts not butter',\n",
       " '+dark +chocolate +peanuts not milk',\n",
       " '+dark chocolate peanuts covered not milk',\n",
       " '+diphenhydramine 50mg not chlorpheniramine',\n",
       " '+foot cream without alcohol',\n",
       " '+full +suspension +electric +bike not fat',\n",
       " '+jamón sin azucar',\n",
       " '+maintained foot switch not piggyback',\n",
       " '+md calcetines compresion sin punta',\n",
       " '+outside weather station and not digital',\n",
       " '+proofer for yogourt -brod and not frozen and not automatic',\n",
       " '+telefono motorola solo lamadas sin cable',\n",
       " '+women red shoes without lacies',\n",
       " ', 1, skullcandy jib wired in-earphone without mic (black)',\n",
       " ', 3 lados sin bordes',\n",
       " ', almohadilla sin tinta para sellos',\n",
       " ', aspiradora escoba sin cable,',\n",
       " ', auriculares inalámbricos sin tapón para los oídos',\n",
       " ', boxer sin costuras',\n",
       " ', bragas sin costuras sexys',\n",
       " ', champú sin sal salerm',\n",
       " ', cuentakilómetros de bicicleta inalámbrico sin móvil',\n",
       " ', darius the great is not okay',\n",
       " ', fidget do not yell at that cost $1',\n",
       " ', filtro sin fondo de café prime',\n",
       " ', funny cat suits are not repeated a week',\n",
       " ', i will not die an unlived life',\n",
       " ', leche puleva infantil sin lactosa no sabes',\n",
       " ', mascarilla infantil ffp2 sin grafeno',\n",
       " ', máquina de depilación sin dolor',\n",
       " ', pharmaton without yinseng',\n",
       " ', punta de acero, botas sin cordones',\n",
       " ', rotating extended fans not a ceiling fan',\n",
       " ', tableta para dibujar y borrar electrónica sin gastar papel',\n",
       " ', trading without emotion',\n",
       " ',,, _ biscotes tostados sin sal y sin azúcar',\n",
       " ',ahou sin alcohol',\n",
       " ',apatillas negras sin cordones',\n",
       " ',e26 bulb base, 60w max x 1(bulbs not included)',\n",
       " ',filtro sin fondo de café prime',\n",
       " ',gafas de sol de llama sin montura,',\n",
       " ',how to view my orders that are not listed',\n",
       " ',mans, book man without a country',\n",
       " ',metal anillo para el pelo sin goma',\n",
       " ',mixtura agapornis sin pipas',\n",
       " ',people should not fear their government.',\n",
       " ',quick strip to wire connector without stripping wire',\n",
       " ',sujetador sin aro talla pequeña',\n",
       " ',usical not necklae pendant',\n",
       " ',vestido acanalado delgado sin mangas',\n",
       " '- *item not packed in kit -',\n",
       " '- [ ] i’m not myself these days josh kilmer-purcell',\n",
       " '- [ ] kh sin aclarado',\n",
       " '- butaca de diseño de terciopelo sin reposabrazos',\n",
       " '- camiseta lisa sin mangas de corte entallado para hombre',\n",
       " '- dash air vent outlet assembly without air conditioning',\n",
       " '- europe - good morning',\n",
       " '- gel hidro-alcohólico higienizante de manos sin aclarado',\n",
       " '- hanging do not enter',\n",
       " '- he’s just not that into you',\n",
       " '- horn button without tilt',\n",
       " \"- if ever there is a tomorrow when we're not together\",\n",
       " '- ignition lock cylinder without thumb wheel',\n",
       " '- iris & lilly sujetador sin tirantes',\n",
       " '- it’s not you (sara eckel)',\n",
       " '- just a regular mom trying not to raise liberal',\n",
       " '- love that too painful was not love',\n",
       " '- mini display iphone to hdmi without bluetooth',\n",
       " '- power auto folding mirrors corner lights not painted',\n",
       " '- somier fijo plegable, montaje sin herramientas',\n",
       " '- the life changing magic of not giving a fuck',\n",
       " '- w nest cam iq outdoor security camera without the magnet',\n",
       " '- wash non-chlorine bleach. tumble dry low. do not iron.',\n",
       " '- we are not such things',\n",
       " '- what i have ordered not what i can order',\n",
       " '- wired headsets without mic',\n",
       " '- wood hanging do not enter',\n",
       " '- y not narural organic pharm oure enu oil',\n",
       " '- ビニール手袋粉なし',\n",
       " \"-1 3/4'' center pop up drain without overflow\",\n",
       " '-10an with 1/8 not hole',\n",
       " '-18 x do not watch',\n",
       " '-3.50 not reading glasses',\n",
       " '-6 an male to 3/8 not adapter',\n",
       " '-7 refrigerator without freezer',\n",
       " '-a house is not a home without a dog shirt',\n",
       " '-camisas homre sin mangas',\n",
       " '-headphones without mic',\n",
       " '-i am not responsible for what my face does',\n",
       " \"-it's not love i'm drunk tshirt\",\n",
       " \"-lazy oaf not for your team sweatshirt in a men's size\",\n",
       " '-アンソロジー 乙女ゲームの破滅フラグしかない悪役令嬢に転生してしまった',\n",
       " '-サングラス',\n",
       " '-目薬',\n",
       " '. 5 i have 3/4 turn not spigot',\n",
       " '. baca coche universal sin rieles',\n",
       " '. dalire champú sin sulfatos extracto de cebolla',\n",
       " '. divinity: original sin ii',\n",
       " '. do not autofill. do not show. do not purchase anything.',\n",
       " '. frameless fixed tub door in silver frame without handle',\n",
       " '. getting to yes: negotiating agreement without giving in',\n",
       " '. getting to yes: negotiating agreements without giving in',\n",
       " '. iced tea without sucralose without aspartame',\n",
       " '. it’s not what you sell, it’s what you stand for.',\n",
       " '. leave in pelo rizado',\n",
       " '. mascarilla sin aclarado peluquería',\n",
       " '. microondas 800w sin grill',\n",
       " '. mocasin esport hombre sin cordones',\n",
       " '...and the earth did not devour him',\n",
       " '..living without limitation',\n",
       " '.030 lincoln flux core',\n",
       " '.05 ml plastic syringes without needles',\n",
       " '.05 pen not gel',\n",
       " '.09 ml syringe without needle',\n",
       " '.1 ml syringe without needle',\n",
       " '.17 cleaning rod',\n",
       " '.177 caliber pellet gun without break barrow',\n",
       " '.177 pellets not lead',\n",
       " '.2 freidora sin aceite princess digitales aerofryer xl.',\n",
       " '.2 syringe without a needle',\n",
       " '.22 pellets not lead',\n",
       " '.22 pellets test',\n",
       " '.24 to .65 not fitting',\n",
       " '.25 ml syringe without needle',\n",
       " '.25 not to 1.25 npt',\n",
       " '.25 syringe without needle',\n",
       " '.2mm magnetic lashes without eyeliner',\n",
       " '.3 cc syringe without needle',\n",
       " '.32 oz vaniply without sunscreen',\n",
       " '.3ml syringe without needle',\n",
       " '.4 mm not bleed pen',\n",
       " '.40 cal suppressor oil filter not as it seems',\n",
       " '.5 cc syringe without needle',\n",
       " '.5 female not fitting plastic',\n",
       " '.5 inch suction cups without hooks',\n",
       " '.5 lead b ain',\n",
       " '.5 mm pen',\n",
       " '.50 cc syringe without needle',\n",
       " '.5cc syringe without needle',\n",
       " '.5ml syringe without needle',\n",
       " '.5mm derma rollers not china',\n",
       " '.625 width 20 gal metal strapping without holes',\n",
       " '.65 trimmer not tangle ryobi braided',\n",
       " '.68 paintballs not reusable',\n",
       " '.7 pens',\n",
       " '.75 carat rings band curved',\n",
       " '.8 beading wire plastic not stretchy',\n",
       " '.8chinese not court rat tail',\n",
       " '.9 lead',\n",
       " '.alliot sin mangas ciclosmo',\n",
       " '.aquí a refrigeradora de agua sin botella',\n",
       " '.baby girl tshirt with they did not social distance',\n",
       " '.bolitas sin gluten',\n",
       " '.bronceado sin sol cápsulas',\n",
       " '.comarl necklaces fake not noticable',\n",
       " '.comida sin gluten conjelada',\n",
       " '.despertador sin cablez',\n",
       " '.edias sin costura',\n",
       " '.hidratante cara sin perfume',\n",
       " \".i'm a dreamer but i not the only one dragonfly\",\n",
       " '.maneta puerta frigorifico sin agujeros',\n",
       " '.melindros de chocolate sin azucar',\n",
       " '.muñecas barbi sin ropa para vestir',\n",
       " '.nnn not much',\n",
       " '.nothing without intention',\n",
       " '.rascal does not dream of bunny girl senpai tapestry',\n",
       " '.sock for henicape can not felldown',\n",
       " '.sujetadores sin tirantes',\n",
       " '.ventilador sin aspas',\n",
       " '.vitamins without zinc',\n",
       " '.weapon of warfare are not carnàl scripture',\n",
       " '.when you walk thru the fire you will not be burned',\n",
       " '/ machine wash low bleach iron do not dry clean. suggested',\n",
       " '/ to keep plastic from babies and not use this bag in',\n",
       " '/ wash cold with like do not dry remove prom',\n",
       " '/were not kidding album',\n",
       " '0 2 ml 8-tube pcr strips without caps low profile white',\n",
       " '0 azucar sin gluten',\n",
       " '0 barbacoa sin patas',\n",
       " '0 cal water inhancer without sugar',\n",
       " '0 champú aveda sin sulfatos ni siliconas',\n",
       " '0 days without a dad joke',\n",
       " '0 dollar toys for big girl not for baby',\n",
       " '0 ml syringe without needle',\n",
       " '0 outdoor stand alone umbrella without base',\n",
       " '0 size 4 pads without wings',\n",
       " '0 to 6 month baby float without getting wet',\n",
       " '0% sad without you tanktop',\n",
       " '0,0 sin sal, ni azúcares',\n",
       " '0-1 yrs without hole',\n",
       " '0-15 psi fuel pressure gauge not liquid filled',\n",
       " '0-3 halloween costume girl',\n",
       " '0-3 month boy fall clothes',\n",
       " '0-3 month swimsuit boy',\n",
       " '0-3 months baby girl clothes',\n",
       " '0-3 months boy sleepers without feet',\n",
       " '0-3 months onesies',\n",
       " '0-3 months white collared shirt',\n",
       " '0-3month first thanksgiving',\n",
       " '0-4 años so buts bebe niño sin mangas',\n",
       " '0-60 eventually you&#39;re not saying no',\n",
       " '0-cedar mop without bucket',\n",
       " '0.0 sticker not today',\n",
       " '0.0 womens blue light glasses without magnification',\n",
       " '0.01 interval syringe without needle',\n",
       " '0.07 lash extensions not easy fans',\n",
       " '0.0womens blue light glasses without magnification',\n",
       " '0.12 airsoft bbs',\n",
       " '0.1mm wire sin esmalte',\n",
       " '0.2 cu. ft. mini personal fridge in black without freezer',\n",
       " '0.25 cotton thread for beads without wax',\n",
       " '0.25 syringe without needle',\n",
       " '0.3 cc syringe without needle',\n",
       " '0.30 cotton thread for beads without wax',\n",
       " '0.33 mfd capacitor',\n",
       " '0.35hppump without pre-filter',\n",
       " '0.35x 0.5 stainless steel u not h trowel',\n",
       " '0.38mm pen',\n",
       " '0.3cc syringe without needle',\n",
       " '0.3ml syringe without needle qty 1',\n",
       " '0.3mm シャープペン 疲れない',\n",
       " '0.4 ノズル',\n",
       " '0.5 aluminum tin without lids for candles',\n",
       " '0.5 cc syringe without needle',\n",
       " '0.5 cc syringes without needle',\n",
       " '0.5 gallon trash bags',\n",
       " '0.5 gallon trash can without lid',\n",
       " '0.5 lead pencil without grip',\n",
       " '0.5 ml syringe without needle',\n",
       " '0.5 mm pens ballpoint black not gel',\n",
       " '0.5 pens fine point black not gel',\n",
       " '0.5 syringe without needle',\n",
       " '0.53 cu. ft. retro mini fridge in white without freezer',\n",
       " '0.5cc syringe without needle',\n",
       " '0.5ml syringe without needle',\n",
       " '0.5mm gel pens ballpoint refill not retractable pens',\n",
       " '0.6 sin cabeza',\n",
       " '0.6ml syringe without needle',\n",
       " '0.7 lead us not into temptation',\n",
       " '0.7 mechanical drafting pencil without eraser',\n",
       " '0.7 pens',\n",
       " '0.75 width leather belt without buckle',\n",
       " '0.8 mm sin cabeza',\n",
       " '0.8\" reading glasses',\n",
       " '0.8mm tin lead solder without rosin core',\n",
       " '0.9% sodium chloride without preservatives usp',\n",
       " '0.9%sodium chloride without any preservatives',\n",
       " '0.9mm mig sin gas',\n",
       " '00 days without a dad joke shirt',\n",
       " '00 days without dad joke mug',\n",
       " '00 days without dad jokes',\n",
       " '00 flour',\n",
       " '00 gauge funny christmas',\n",
       " '00 grease',\n",
       " '00 ram hub bearing front without abs',\n",
       " '00 size empty capsules not made with carageenena',\n",
       " '00 zero days without a bad dad joke shirt',\n",
       " '00% natural ingredients not 100% vitamin e',\n",
       " '000 black jeans not ripped',\n",
       " '000 days without dad jokes shirt',\n",
       " '007',\n",
       " '007 car sticker without gun',\n",
       " '007 james bond the world is not enough',\n",
       " '007 movies',\n",
       " '007 shaken but not stirred',\n",
       " '00g 目立たない',\n",
       " '00m vesa mounting pattern mounting bracket not included',\n",
       " '00pp craftsman tool sets me',\n",
       " '01 ford mustang 3.8 tan seat covers without headrest',\n",
       " '01 ford ranger headlights not smoke lens',\n",
       " '01 g scale without auto off',\n",
       " '01 maybe your heart’s not in it no more the wallflowers',\n",
       " '01 polaris scrambler 500 pull start without case',\n",
       " '01 tahoe ac compressor with rear without clutch',\n",
       " '013 nail color not gel',\n",
       " '02 dodge dakota window regulator driver side without motor',\n",
       " '02 explorer thermostat housing without thermostat',\n",
       " '02 ford f150 rear brake light not coming on',\n",
       " '02 ford f350 air bag kit without comprser',\n",
       " '02 ford sport trac disc brakes',\n",
       " '02 gmc denali headlight mounting bracket',\n",
       " '02 sensor without catalytic converter',\n",
       " '02 yamaha raptor 80cc what would cause it not to firer',\n",
       " '02cool spray water bottle for drinking not flap to drink',\n",
       " '02cool water bottle mist and sip without lid purple',\n",
       " '03 dodge ram visor',\n",
       " '03 dodge tow mirrors without spot mirror',\n",
       " '03 durango front calipers without pads',\n",
       " '03 grand am double din radio',\n",
       " \"03 it's not unusual\",\n",
       " '03 jetta alternator',\n",
       " '03 passat oil pan without sensor',\n",
       " '03 sonoma grille without letters',\n",
       " '03 tahoe front wheel bearing not 4wd',\n",
       " '035 super clamp without stud, includes 035wdg wedge',\n",
       " '04 f150 black beadlight without amber',\n",
       " '04 ford ranger third brake light without cargo',\n",
       " '04 gmc envoy alternator',\n",
       " '04 gmc yukon rear ac blower not working',\n",
       " '04 mazda 3 tie rod end',\n",
       " '04 nissan titan fender flares without box',\n",
       " '04 sierra map light',\n",
       " '04 suburban drive 3.73 without active brake control',\n",
       " '05 4runner wheel spacers without hub centric',\n",
       " '05 chevy malibu window regulator without motor',\n",
       " '05 colorado seats not covers',\n",
       " '05 duramax will not start',\n",
       " '05 f150 rack and pinion without inner tie rod',\n",
       " '05 gsxr 600 light bulb',\n",
       " '05 nissan titan f r not strut mount',\n",
       " '05 sienna rear performance brakes',\n",
       " '05 silverado rear bumper',\n",
       " '05 surprise that’s not it.',\n",
       " '05 syringe without needle',\n",
       " '05 tahoe side mirror not heated',\n",
       " '05 toyota tacoma grill guard',\n",
       " '05 vw passat window regulator without motor set',\n",
       " '06 avalanche parts',\n",
       " '06 bmw 325i radio oem not navigation system',\n",
       " '06 chevy colorado driver side window regulator without motor',\n",
       " '06 chevy silverado tailgate handle without keyhole',\n",
       " '06 colorado driver side power window regulator without motor',\n",
       " '06 expedition cup',\n",
       " '06 f150 door handle without keyless entry',\n",
       " '06 honda odyssey a/c compressor',\n",
       " '06 mini cooper not turbo air intake hose',\n",
       " '06 ram rear bumper',\n",
       " '06 saturn ion fuel pump assembly without pump without pump',\n",
       " '06 silverado headlights',\n",
       " '06 subaru impreza passenger side quarter panel',\n",
       " '06 suzuki 600 side fairing not painted',\n",
       " '06 tailgate without clearance lights',\n",
       " '06 titan fender flares without lock box',\n",
       " '06 titan trans oil cooler line not adapter',\n",
       " '06 town and country ac compressor',\n",
       " '06 trailblazer ac pressure switch not oil',\n",
       " '06 trailblazer headlight without full grille bar',\n",
       " '07 cadillac escalade headlights without ballest',\n",
       " '07 camry xle stereo without amp',\n",
       " '07 dodge charger water pump',\n",
       " '07 fit din dash without radio',\n",
       " '07 ford fusion washer reservoir without pump',\n",
       " '07 honda odyssey sliding door lock not electronic',\n",
       " '07 jeep hitch',\n",
       " '07 nissan pathfinder window regulator without motor',\n",
       " '07 passat front bumper grille trim without fog lights',\n",
       " '07 tahoe driver mirror without power folding',\n",
       " '07 volume eyelash extensions not easy fan',\n",
       " '07 zx6r plastics unpainted without abs',\n",
       " '08 bmw x5 a/c air compressor without adaptive',\n",
       " '08 chevy silverado led headlights',\n",
       " '08 chevy tahoe wheel not cover',\n",
       " '08 chevy tailgate without emblem',\n",
       " '08 civic si fog lights without switch',\n",
       " '08 corolla rear shocks',\n",
       " '08 do not disturb',\n",
       " '08 f250 mirrors without lights',\n",
       " '08 f250 smoke mirror markers',\n",
       " '08 silverado dash mat not carpet',\n",
       " '08 silverado headloght bulb',\n",
       " '08 trimmer line',\n",
       " '08 tundra chrome tailgate handle without camera',\n",
       " '08 wrangler jk without hitch',\n",
       " '09 g6 wheel not cover grey',\n",
       " '09 honda odyssey struts without spring and shocks',\n",
       " '09 kia rio front bumper cover without fog lights',\n",
       " '09 nissan altima coupe passenger headlight',\n",
       " '09 to 14 f150 rgb headlights',\n",
       " '091 doce canciones sin piedad',\n",
       " '091.doce canciones sin piedad',\n",
       " '0asis kindle without adds',\n",
       " '0baby what is not a toy and the so much rea',\n",
       " '0cedar spin mop without bucket',\n",
       " '0ffice chairs without wheels',\n",
       " '0g earrings not tapered',\n",
       " '0lanchas sin cable',\n",
       " '0o days without sarcasm shirt',\n",
       " \"0pi nail polish i'm not really a waitress\",\n",
       " '0ptimum nutrition sin azucar',\n",
       " '0ranges are not the only fruit',\n",
       " '0reck xl vacuum not standup',\n",
       " '0rganic potting without fertelizer for roses',\n",
       " '0rgans only not piano for sale',\n",
       " '0sxk ofrece fidget toys not expensive',\n",
       " '0ther gas grill not webber',\n",
       " '0ver charge on items.with prime not happy',\n",
       " '0w-20 full synthetic oil',\n",
       " '0w-20 オイル',\n",
       " '0w20 synthetic oil',\n",
       " '0zo not bit',\n",
       " '0係',\n",
       " '0歳 絵本 いないいない',\n",
       " '1 & 1/4 pvp water suction hose without couplings 100 ft',\n",
       " '1 & 1/4pvp water suction hose without couplings',\n",
       " \"1 '' leather belts without buckles\",\n",
       " '1 +/4in open grid sink drain without overflow',\n",
       " '1 / 6 bjd clothing not include doll',\n",
       " '1 0 gauge reducer',\n",
       " '1 0z plastic containers without lids',\n",
       " '1 1/2 black drain without overflow',\n",
       " '1 1/2 hp pool pump without skimmer',\n",
       " '1 1/2 inch binders 3 ring',\n",
       " '1 1/2 inch wide belt strap without buckle with holes',\n",
       " '1 1/2 leather belts without buckle',\n",
       " '1 1/2 pop up drain without overflow',\n",
       " '1 1/2 sink drain without overflow',\n",
       " '1 1/2 sink without overflo pop up',\n",
       " '1 1/2 tablespoon',\n",
       " '1 1/2 year old girl toys',\n",
       " '1 1/2” wide mens belt without buckle',\n",
       " '1 1/4 bathroom sink drain without overflow',\n",
       " '1 1/4 leather belt without buckle full grain',\n",
       " '1 1/4 mini metal rustic barn star without hole for the',\n",
       " '1 1/4 pop up bathroom sink drain without overflow',\n",
       " '1 1/4 pop up drain without overflow',\n",
       " '1 1/4 receiver',\n",
       " '1 1/4 sink drain without overflow',\n",
       " '1 1/4 sink drain without overflow in plastic',\n",
       " '1 1/4 well strainer for water well without foot valve',\n",
       " '1 1/4 wood screws',\n",
       " '1 1/4” npt',\n",
       " '1 1/4” sink drain without overflow',\n",
       " '1 1/8 not threads anode rod for rv',\n",
       " '1 1/8 skinny leather belts without buckles',\n",
       " '1 1/8 womensleather belts without buckles',\n",
       " '1 12 off-road vehicle not rc',\n",
       " '1 14 brown leather belt without buckle',\n",
       " '1 16oz glass jar with lid',\n",
       " '1 2 without both battery switch',\n",
       " \"1 20 volt extension cord no it's not what i\",\n",
       " '1 2” bronze pop up drain for sink without overflow',\n",
       " '1 3/4 belt buckle',\n",
       " '1 3/4 inch tooled belt strap without belt buckle',\n",
       " '1 3/4 mens leather belt strap without buckle',\n",
       " '1 3/4 pop up drain without overflow brushed nickel',\n",
       " '1 3/4 through hull fittings for boats without barb',\n",
       " \"1 3/4'' center pop up drain without overflow\",\n",
       " '1 3/8 inch bathroom drain stopper without overflow',\n",
       " '1 32 cars not pullback',\n",
       " '1 32 scale cars',\n",
       " '1 4 inch trs',\n",
       " '1 5/8 copper sink drain without overflow',\n",
       " '1 5/8 pop up drain without overflow',\n",
       " '1 5/8 split flange',\n",
       " '1 50 ml syringe without needle',\n",
       " '1 52 by 84 thermal drape not blackout',\n",
       " '1 7/8 vacuum hose',\n",
       " '1 7/8 wood hole saw without arbor',\n",
       " '1 a day vitamins for men 50 plus without vitamin k',\n",
       " '1 acre bug zapper outdoor without octenal attractant',\n",
       " '1 airpod not charging case',\n",
       " '1 amp fuse',\n",
       " '1 and 1/2 inch 5 star binder flex',\n",
       " '1 aro pirata sin agujero',\n",
       " '1 aspirador sin cable',\n",
       " '1 año sin insectos',\n",
       " '1 ańo sin hormigas',\n",
       " '1 badminton racket without cock',\n",
       " '1 balda pared sin agujeros',\n",
       " '1 basic function calculator not graphing',\n",
       " '1 belt strap without buckle',\n",
       " '1 big box of kleenex tissues not cube',\n",
       " '1 big plastic bin with lid not clear',\n",
       " '1 bike rack for suv without hitch',\n",
       " '1 black small notebook without lines',\n",
       " '1 blink outdoor camera without module',\n",
       " '1 block de dibujo técnico tamaño folio espiral sin recuadro',\n",
       " '1 blue binder',\n",
       " '1 bluetooth earphone with mic that will not fall out',\n",
       " '1 book rings',\n",
       " '1 braguita negra sin costuras',\n",
       " '1 brazo soporte monitor sin articulacion',\n",
       " '1 bubble gun without batteries',\n",
       " '1 bushel laundry basket',\n",
       " '1 by one, amplified, outdoor hdtv antenna',\n",
       " '1 caja cereales sin aceite de palma',\n",
       " '1 can of pumpkin for dogs without sugar',\n",
       " '1 cant believe its not butter and herb',\n",
       " '1 carry-on bag not exceeding 22 x 16 x 10 in',\n",
       " '1 cc syringes without needle',\n",
       " '1 cc syringes without needles',\n",
       " '1 cc tuberculin syringe without needle',\n",
       " '1 cc/ml syringe without needle',\n",
       " '1 cent that does not have shipping payment',\n",
       " '1 cerbeza sin alcol',\n",
       " '1 cinturones sin hebilla',\n",
       " '1 cinturón para rizos sin calor',\n",
       " '1 coco wire plant holder without basket',\n",
       " '1 contacts not more than three dollars',\n",
       " '1 cordless telephone without answering capability',\n",
       " '1 corinthians without love wall art',\n",
       " '1 crema cacao proteica sin azucar',\n",
       " '1 crib mattress this is not sold with the crib',\n",
       " '1 cu ft mini fridge without freezer',\n",
       " '1 cup coffee maker without water reservoir',\n",
       " '1 cup measuring cup without handle',\n",
       " '1 cup scoop without handle',\n",
       " '1 cup water watering can white modern',\n",
       " '1 curtain panel 63 x 82 not for rods but hooks',\n",
       " '1 curtain rings without clips',\n",
       " '1 day shipping fidgets not from china',\n",
       " '1 didema negra fina de plastico sin forro',\n",
       " '1 din bluetooth sin cable',\n",
       " '1 dollar item free shipping',\n",
       " '1 dollar items free shipping',\n",
       " '1 dollar makeup',\n",
       " '1 dollor toys',\n",
       " '1 dooler figits not scam',\n",
       " '1 ear headset without microphone',\n",
       " '1 ear wired headphones without mic',\n",
       " '1 earphone with mic that will not fall out',\n",
       " '1 elastic bands for sewing white',\n",
       " '1 ethernet port wall plate without keystone',\n",
       " '1 fake hawaiian foam flower not clip for ear',\n",
       " '1 fancy box without lids',\n",
       " '1 female to 3/8 male not adapter',\n",
       " '1 fl oz hand sanitizer bulk spread love not germa',\n",
       " '1 flexible 8x10 mirror not sheet',\n",
       " '1 fluid ounce empty mini sauce bottles (sauce not included)',\n",
       " '1 foot long hinge without holes',\n",
       " '1 for 1 chlorine free pads without wings',\n",
       " '1 ft 3/8 not hose',\n",
       " '1 ft curtain rod without finials',\n",
       " '1 funda de cojin con patron mixto sin relleno',\n",
       " '1 gal. steel paint cans without lids',\n",
       " '1 galaxy s9 plus phone cover not bulcky',\n",
       " '1 gallon brown glass bottle',\n",
       " '1 gallon water bottle',\n",
       " '1 gallon ziplock bags the kind without the zip clip',\n",
       " '1 gallon ziplock bags the king without the zip clip',\n",
       " '1 gang 2 way wifi sin neutro',\n",
       " '1 generation ipad air keyboard case without an apple penicil',\n",
       " '1 gpm propane water heater not adapter',\n",
       " '1 green decorative pillow not pillow case',\n",
       " '1 herb-ox beef granules bouillon without msg 7.9 0z.',\n",
       " '1 hole kitchen faucet without sprayer',\n",
       " '1 hour twist timer not photo electric electrical outlets',\n",
       " '1 hp garbage disposal without power cord',\n",
       " '1 hp pool pump without filter',\n",
       " '1 huba buba origanal not exspencive',\n",
       " '1 in binder',\n",
       " '1 in blank buttons without pin backs',\n",
       " '1 in clear round acrylic disk without hole',\n",
       " '1 in curling iron without clamp',\n",
       " '1 in curtain rod black without brackets',\n",
       " '1 in npt female to 1/4 not female reducer',\n",
       " '1 in wide belt without belt buckle',\n",
       " '1 in. mens western belts leather without buckle',\n",
       " '1 inch 3 ring binder without clear pocket',\n",
       " '1 inch barbell',\n",
       " '1 inch binder',\n",
       " '1 inch binder4 oz elmer glue',\n",
       " '1 inch binders 3 ring',\n",
       " '1 inch binders 3 ring clear view cover',\n",
       " '1 inch block heels',\n",
       " '1 inch drill bit',\n",
       " '1 inch heels shoes wide width',\n",
       " '1 inch hose clamps',\n",
       " '1 inch hot air brush',\n",
       " '1 inch leather belt without buckle',\n",
       " '1 inch long barrel curler without clip',\n",
       " '1 inch mending plate',\n",
       " '1 inch mini curling iron with case not straighteners',\n",
       " '1 inch openable curtain rings with clips',\n",
       " '1 inch paint brushes for acrylic painting',\n",
       " '1 inch patio side round',\n",
       " '1 inch pin stripe',\n",
       " '1 inch rear leveling kit',\n",
       " '1 inch ribbon satin',\n",
       " '1 inch round ring binder',\n",
       " '1 inch threaded elbow connector',\n",
       " '1 inch vent screen',\n",
       " '1 inch white felt letters',\n",
       " '1 inch wooden beads for crafts without holes',\n",
       " '1 inch/cm ruler not bendable',\n",
       " '1 inflatable light up pool ball without remote',\n",
       " '1 item received second item not in package',\n",
       " '1 kg crema de cacahuete sin azúcar',\n",
       " '1 kilo gominolas sin gluten',\n",
       " '1 l brackets without screws',\n",
       " '1 la casa del fin del mundo los sin miedo',\n",
       " '1 large white silk gardenia without stem',\n",
       " '1 lb aluminum pan without lid',\n",
       " '1 lb sack of forget me not seeds',\n",
       " '1 light switch dimmer without plate',\n",
       " '1 line corded phone without answering machine',\n",
       " '1 liter glass water bottle',\n",
       " '1 liter water bottles without time mark',\n",
       " '1 lock pick',\n",
       " '1 ltr water bottle without straw',\n",
       " '1 luz led solar sin sensor luz calida',\n",
       " '1 magnetic strip without adhesive',\n",
       " '1 man tent without poles',\n",
       " '1 marco tamaño folio sin bordes',\n",
       " '1 mascarilla sin aclarado',\n",
       " '1 me without needle syringes',\n",
       " '1 mg melatonin without xylitol',\n",
       " '1 million lucky cologne for men',\n",
       " '1 minute sand timers',\n",
       " '1 ml 10 pack syringe without needle with tip cap',\n",
       " '1 ml 28 gauge 1/2 inch attached needle without safety',\n",
       " '1 ml bdsyringe without needles with lure-lok tip',\n",
       " '1 ml blister pack luer lock tip without safety',\n",
       " '1 ml blister pack luer slip tip without safety',\n",
       " '1 ml insulin syringes without needle',\n",
       " '1 ml medical grade syringes without needles',\n",
       " '1 ml plastic tuberculin syringes without needles',\n",
       " '1 ml syringes without needles',\n",
       " '1 ml syringes without the needle with caps',\n",
       " '1 ml vet syringe without needle with cap',\n",
       " '1 mlsyringe without rubber plunger',\n",
       " '1 molde freidora sin aceite',\n",
       " '1 month baby not real baby sufft',\n",
       " '1 month baby photography props',\n",
       " '1 morton sea salt without iodine',\n",
       " '1 moto freidora sin aceite',\n",
       " '1 ms monitor 144hz',\n",
       " '1 mtb stem',\n",
       " '1 nation design t shirts we are not descended',\n",
       " '1 ohm amplifier',\n",
       " '1 ounce containers with lids not plastic',\n",
       " '1 ounce plastic disposable portion cups without lids',\n",
       " '1 oz amber bottles without lid',\n",
       " '1 oz boston round glass bottle without lid',\n",
       " '1 oz dropper bottles glass',\n",
       " '1 oz glass cups for without lead',\n",
       " '1 oz plastic shot glasses without lids',\n",
       " '1 oz portion cups without lids',\n",
       " '1 oz tin without lid',\n",
       " '1 pack blue braiding hair pre stretched',\n",
       " '1 pack blue fairy lights battery without timer',\n",
       " '1 pack of 8 dividers with pockets',\n",
       " '1 pair garden glove home claw dig plant',\n",
       " '1 pairs of samsung galaxy buds without the charger',\n",
       " '1 palets madera baratos sin respaldo',\n",
       " '1 paños de limpieza de microfibra desechables sin pelusa',\n",
       " '1 pcs cooking pots and pans without handle',\n",
       " '1 pcs stainless steel without blood sheep castration clamb',\n",
       " '1 pendientes clip hombre sin agujero',\n",
       " '1 per day bariatric multivitamin capsules without iron',\n",
       " '1 person sofa without arms',\n",
       " '1 peter jen wilkin',\n",
       " '1 picture frames 16x20 without mat',\n",
       " '1 piece wingback chair cover without arms',\n",
       " '1 pint mason jars without words',\n",
       " '1 plas 7 pro',\n",
       " '1 player games',\n",
       " '1 ply disposable mask without nose clip',\n",
       " '1 pocket folder without prongs',\n",
       " '1 port coax 1 port cat5e without wall plate',\n",
       " '1 pound grain scoop',\n",
       " '1 practica con problemas de sumar y restar sin llevada',\n",
       " '1 puzzle frame included',\n",
       " '1 pvc slip coupling without stop',\n",
       " '1 qt saucepan without lid stainless steel',\n",
       " '1 quart stainless steel saucepan without lid',\n",
       " '1 quart wide mouth mason jars without lids',\n",
       " '1 rca female to 2 rca female splitter',\n",
       " '1 red balloon',\n",
       " '1 restas sin llevar bruño',\n",
       " '1 room portable air conditioner without hose',\n",
       " '1 seat sofa without arm restcover',\n",
       " '1 set of earbuds without microphone',\n",
       " '1 set plastic 5 tab dividers without pockets',\n",
       " '1 silicone hose',\n",
       " '1 sobre pokémon sin brillar',\n",
       " '1 square container without lids small',\n",
       " '1 step motorhome cleaner without washing',\n",
       " '1 strap bathing suit without a stretchy belly',\n",
       " '1 subject notbook',\n",
       " '1 subject notebook without sprial',\n",
       " '1 sumas sin llevada',\n",
       " '1 superhero cape for adult women without mask',\n",
       " '1 syringe without needle usa styrle',\n",
       " '1 tarjetero de seguridad sin tarjeteto',\n",
       " '1 tb external hdd',\n",
       " '1 tb hard drive',\n",
       " '1 tb micro sd card without adapter',\n",
       " '1 tb ssd',\n",
       " '1 tb usb drive',\n",
       " '1 tea candle without canister',\n",
       " '1 threaded fork 26 without pivot',\n",
       " '1 trash can without lid',\n",
       " '1 tsp of grenetine without sweetener',\n",
       " '1 turbante para rizos sin calor',\n",
       " '1 usb macho a dos hembra sin cable',\n",
       " '1 videoportero 2 monitores sin apertura puerta',\n",
       " '1 way adjustable air diffuser 10 x 6',\n",
       " '1 way window film',\n",
       " '1 weight bar without weights 7ft',\n",
       " '1 wheel skates without breaks',\n",
       " '1 white fancy box without a lid in living room',\n",
       " '1 wine glasses without stems',\n",
       " '1 wooden beads without holes bulk',\n",
       " '1 year baby mouth without teeth cleaner',\n",
       " '1 year old activity tracker',\n",
       " '1 year old boy birthday gift',\n",
       " '1 year old boy gifts',\n",
       " '1 year old frame party favors',\n",
       " '1 year old girl clothes fall',\n",
       " '1 year old girl gifts',\n",
       " '1 year old girl toys',\n",
       " '1 year old learning toys',\n",
       " '1 year old sandals',\n",
       " '1 year old toys girls',\n",
       " '1 year without sex chip',\n",
       " '1 yr without dad',\n",
       " '1 ‘ velcro without adhesive for sewing',\n",
       " '1\" craft marbles glass',\n",
       " '1\" curtain rod bracket',\n",
       " '1\" sds drill bit',\n",
       " '1\" wide men\\'s headbands sports',\n",
       " '1$xrphone cases',\n",
       " '1% hydrocortisone cream without aloe',\n",
       " '1% retinol organic without carageenan',\n",
       " '1%も尽くさないで',\n",
       " \"1'' oil hose\",\n",
       " \"1'5 sin autoradio\",\n",
       " '1+ phone',\n",
       " '1+folder+3+hole+punched+pocket+folder smead black',\n",
       " '1, 2 o 3 pantalones cortos moldeadores sin costuras',\n",
       " '1, 2, 3 qt. mixing bowls without lids',\n",
       " '1,5” belt without buckle',\n",
       " '1-1/2 inch black sink drain without overflow -pop',\n",
       " '1-1/2 x 3/4 ac weather stripping without adhesive',\n",
       " '1-1/2” pop up drain without overflow',\n",
       " '1-1/4 drain lavatory lever without overflow',\n",
       " '1-1/4 inch sink drain assembly without overflow',\n",
       " '1-1/4 lavatory drain without overflow',\n",
       " '1-1/4 socket',\n",
       " '1-1/4 vessel sink drain without overflow',\n",
       " '1-1/4-inch vessel style drain without overflow',\n",
       " '1-1/4” vessel sink drain without overflow',\n",
       " '1-14” coco wire plant holder without basket',\n",
       " '1-18 coronet',\n",
       " '1-2-3 blocks without holes',\n",
       " '1-3/8 inch door bottom without drip cap',\n",
       " '1-3t socks without gripper',\n",
       " '1-8x scope',\n",
       " '1-cup pyrex without lid',\n",
       " '1-inch copper couplings without stops',\n",
       " '1-inch couplings without stops',\n",
       " '1-light fan kit without ceiling fan',\n",
       " '1-piece poly pjs',\n",
       " '1-year old toys',\n",
       " '1. electrical engineering without prior knowledge',\n",
       " '1. eufy video doorbell camera without wifi',\n",
       " '1. schwarzkopf bc bonacure – champú micelar sin sulfato',\n",
       " '1.0 ml syringes without needle',\n",
       " '1.0 reading glasses men',\n",
       " '1.0 reading glasses without ears',\n",
       " '1.00 rimless without nose reading glass for men',\n",
       " '1.1 cu ft refrigerator without freezer',\n",
       " '1.1 sumas y restas sin llevar editorial geu',\n",
       " '1.18mm 芯',\n",
       " '1.2 inch belt without buckle',\n",
       " '1.2 suction cups without hooks',\n",
       " '1.25 bathroom sink drain without overflow',\n",
       " '1.25 drain popper without overflow',\n",
       " '1.25 gallon buckets without lids',\n",
       " '1.25 inch woos rod',\n",
       " '1.25 sunglasses for women',\n",
       " '1.25\" x 1.25\" small stainless steel hinges',\n",
       " '1.4 cubic feet small refrigerator without freezer',\n",
       " '1.4 inch tube medical syringe without needle',\n",
       " '1.4cuft small refrigerator without freezer',\n",
       " '1.5 cm peg',\n",
       " '1.5 cu ft mini fridge without freezer',\n",
       " '1.5 folding reading glasses without arms formen',\n",
       " '1.5 grosgrain ribbon',\n",
       " '1.5 heavy duty casters without brakes',\n",
       " '1.5 honda civic distributor',\n",
       " '1.5 horsepower submersible well pump',\n",
       " '1.5 hp pool pump without basket',\n",
       " '1.5 inch carabiner clip',\n",
       " '1.5 inch heel',\n",
       " '1.5 inch round magnet adhesive',\n",
       " '1.5 inwide gold ribbon without wire',\n",
       " '1.5 metric allen key',\n",
       " '1.5 ml syringe without needle',\n",
       " '1.5 mortise cylinder',\n",
       " '1.5 oz toothpaste',\n",
       " '1.5 pop up drain without overflow oil rubbed',\n",
       " ...]"
      ]
     },
     "execution_count": 104,
     "metadata": {},
     "output_type": "execute_result"
    }
   ],
   "source": [
    "df['query'].unique().tolist()"
   ]
  },
  {
   "cell_type": "code",
   "execution_count": 212,
   "metadata": {},
   "outputs": [
    {
     "data": {
      "text/plain": [
       "(31014, 4)"
      ]
     },
     "execution_count": 212,
     "metadata": {},
     "output_type": "execute_result"
    }
   ],
   "source": [
    "path = '/Users/mhendriksen/Desktop/repositories/datasets/flickr30k_images/dataset_flickr30k.csv'\n",
    "\n",
    "pd.read_csv(path).shape"
   ]
  },
  {
   "cell_type": "code",
   "execution_count": 215,
   "metadata": {},
   "outputs": [
    {
     "data": {
      "text/plain": [
       "True"
      ]
     },
     "execution_count": 215,
     "metadata": {},
     "output_type": "execute_result"
    }
   ],
   "source": [
    "5 < 5 or 1 > 0"
   ]
  },
  {
   "cell_type": "code",
   "execution_count": 123,
   "metadata": {},
   "outputs": [
    {
     "name": "stdout",
     "output_type": "stream",
     "text": [
      "CUB dev-test-train Counter({'train': 5994, 'dev': 2938, 'test': 2856})\n"
     ]
    }
   ],
   "source": [
    "# TODO: shorten abo csv\n",
    "# TOOD: shorten fashion200k csv\n",
    "\n",
    "path = '/Users/mhendriksen/Desktop/repositories/datasets/CUB_200_2011/cub_1_cap_per_img.csv'\n",
    "\n",
    "df_cub = pd.read_csv(path, index_col=0)\n",
    "\n",
    "from collections import Counter\n",
    "\n",
    "c = Counter(df_cub['eval_status'].tolist())\n",
    "print('CUB dev-test-train', c)\n",
    "\n",
    "train = c['train']\n",
    "test = c['test']\n",
    "dev = c['dev']"
   ]
  },
  {
   "cell_type": "code",
   "execution_count": 19,
   "metadata": {},
   "outputs": [],
   "source": [
    "def subsample_csv(dataf, train=5994, test=2856, dev=2938):\n",
    "\n",
    "    dataf_train = dataf[dataf['eval_status'] == 'train']\n",
    "    dataf_test = dataf[dataf['eval_status'] == 'test']\n",
    "    dataf_dev = dataf[dataf['eval_status'] == 'dev']\n",
    "\n",
    "    assert len(dataf_train) + len(dataf_test) + len(dataf_dev) == len(dataf)\n",
    "\n",
    "    dataf_train = dataf_train.sample(train, random_state=42)\n",
    "    dataf_test = dataf_test.sample(test, random_state=42)\n",
    "    dataf_dev = dataf_dev.sample(dev, random_state=42)\n",
    "\n",
    "    print(f'New shapes:\\n dataf_train: {dataf_train.shape}\\n dataf_test: {dataf_test.shape}\\n dataf_dev: {dataf_dev.shape }')\n",
    "\n",
    "    new_df = pd.concat([dataf_train, dataf_test, dataf_dev])\n",
    "\n",
    "    assert len(dataf_train) + len(dataf_test) + len(dataf_dev) == len(new_df)\n",
    "\n",
    "    return new_df"
   ]
  },
  {
   "cell_type": "code",
   "execution_count": 21,
   "metadata": {},
   "outputs": [
    {
     "name": "stdout",
     "output_type": "stream",
     "text": [
      "New shapes:\n",
      " dataf_train: (2, 6)\n",
      " dataf_test: (5000, 6)\n",
      " dataf_dev: (2, 6)\n"
     ]
    }
   ],
   "source": [
    "import pandas as pd\n",
    "\n",
    "\n",
    "path = '/Users/mhendriksen/Desktop/repositories/datasets/abo/abo_captions_1cap.csv'\n",
    "\n",
    "df_abo = pd.read_csv(path, index_col=0)\n",
    "df_abo_tiny = subsample_csv(df_abo, train=2, test=5000, dev=2)\n",
    "\n",
    "df_abo_tiny.to_csv('abo_tiny.csv')"
   ]
  },
  {
   "cell_type": "code",
   "execution_count": 22,
   "metadata": {},
   "outputs": [
    {
     "name": "stdout",
     "output_type": "stream",
     "text": [
      "New shapes:\n",
      " dataf_train: (2, 5)\n",
      " dataf_test: (5000, 5)\n",
      " dataf_dev: (2, 5)\n",
      "Final df shape:  (5004, 5)\n"
     ]
    }
   ],
   "source": [
    "path = '/Users/mhendriksen/Desktop/repositories/datasets/fashion-200k/fashion200k.csv'\n",
    "\n",
    "df_f200 = pd.read_csv(path, index_col=0)\n",
    "df_f200_small = subsample_csv(df_f200, train=2, test=5000, dev=2)\n",
    "print('Final df shape: ', df_f200_small.shape)\n",
    "# df_f200_small.to_csv('fashion200k_tiny.csv')"
   ]
  },
  {
   "cell_type": "code",
   "execution_count": 23,
   "metadata": {},
   "outputs": [
    {
     "name": "stdout",
     "output_type": "stream",
     "text": [
      "New shapes:\n",
      " dataf_train: (2, 4)\n",
      " dataf_test: (10, 4)\n",
      " dataf_dev: (2, 4)\n"
     ]
    }
   ],
   "source": [
    "path = '/Users/mhendriksen/Desktop/repositories/datasets/CUB_200_2011/cub_1_cap_per_img.csv'\n",
    "\n",
    "df_cub = pd.read_csv(path, index_col=0)\n",
    "\n",
    "df_cub_small = subsample_csv(df_cub, train=2, test=10, dev=2)\n",
    "\n",
    "df_cub_small.to_csv('cub_tiny.csv')"
   ]
  },
  {
   "cell_type": "code",
   "execution_count": 24,
   "metadata": {},
   "outputs": [
    {
     "name": "stdout",
     "output_type": "stream",
     "text": [
      "New shapes:\n",
      " dataf_train: (2, 3)\n",
      " dataf_test: (10, 3)\n",
      " dataf_dev: (2, 3)\n"
     ]
    }
   ],
   "source": [
    "path = '/Users/mhendriksen/Desktop/repositories/datasets/flickr30k_images/dataset_flickr30k.csv'\n",
    "\n",
    "df_f30 = pd.read_csv(path, index_col=0)\n",
    "\n",
    "df_f30_small = subsample_csv(df_f30, train=2, test=10, dev=2)\n",
    "\n",
    "df_f30_small.to_csv('f30k_tiny.csv')"
   ]
  },
  {
   "cell_type": "code",
   "execution_count": 25,
   "metadata": {},
   "outputs": [
    {
     "name": "stdout",
     "output_type": "stream",
     "text": [
      "New shapes:\n",
      " dataf_train: (2, 4)\n",
      " dataf_test: (10, 4)\n",
      " dataf_dev: (2, 4)\n"
     ]
    }
   ],
   "source": [
    "path = '/Users/mhendriksen/Desktop/repositories/datasets/ms-coco/mscoco_captions.csv'\n",
    "\n",
    "df_coco = pd.read_csv(path, index_col=0)\n",
    "\n",
    "df_coco_small = subsample_csv(df_coco, train=2, test=10, dev=2)\n",
    "\n",
    "df_coco_small.to_csv('coco_tiny.csv')"
   ]
  },
  {
   "cell_type": "code",
   "execution_count": 235,
   "metadata": {},
   "outputs": [],
   "source": [
    "path = '/Users/mhendriksen/Desktop/repositories/X-VLM/data/finetune/flickr30k_test.json'\n",
    "\n",
    "import json\n",
    "\n",
    "with open(path, 'r') as f:\n",
    "    data = json.load(f)"
   ]
  },
  {
   "cell_type": "code",
   "execution_count": 18,
   "metadata": {},
   "outputs": [
    {
     "data": {
      "text/plain": [
       "'conf/data_zh_conf.yaml'"
      ]
     },
     "execution_count": 18,
     "metadata": {},
     "output_type": "execute_result"
    }
   ],
   "source": [
    "path = 'conf/data_conf.yaml'\n",
    "\n",
    "l = path.split('_')\n",
    "\n",
    "l.insert(1, 'zh')\n",
    "\n",
    "'_'.join(l)"
   ]
  },
  {
   "cell_type": "code",
   "execution_count": 17,
   "metadata": {},
   "outputs": [
    {
     "data": {
      "text/plain": [
       "['conf/data', 'conf.yaml']"
      ]
     },
     "execution_count": 17,
     "metadata": {},
     "output_type": "execute_result"
    }
   ],
   "source": [
    "path.split('_')"
   ]
  },
  {
   "cell_type": "code",
   "execution_count": 155,
   "metadata": {},
   "outputs": [],
   "source": [
    "path = '/Users/mhendriksen/Desktop/repositories/X-VLM/best_model_ABO_30E_128BS_image_to_text.pkl'\n",
    "\n",
    "with open(path, 'rb') as f:\n",
    "    results = pickle.load(f)"
   ]
  },
  {
   "cell_type": "code",
   "execution_count": 156,
   "metadata": {},
   "outputs": [],
   "source": [
    "i2t_query_ids = results['i2t_query_ids']\n",
    "i2t_top_k_results = results['i2t_top_k_results']"
   ]
  },
  {
   "cell_type": "code",
   "execution_count": 163,
   "metadata": {},
   "outputs": [
    {
     "data": {
      "text/plain": [
       "0"
      ]
     },
     "execution_count": 163,
     "metadata": {},
     "output_type": "execute_result"
    }
   ],
   "source": [
    "[1,2,4].index(1)"
   ]
  },
  {
   "cell_type": "code",
   "execution_count": 171,
   "metadata": {},
   "outputs": [],
   "source": [
    "ranks_abo_clip = []\n",
    "for query_id, result in zip(i2t_query_ids, i2t_top_k_results):\n",
    "    if query_id in result:\n",
    "        #print('Found it!')\n",
    "        rank = result.index(query_id)\n",
    "    else:\n",
    "        # print('Not found')\n",
    "        rank = len(result) + 1\n",
    "    ranks_abo_clip.append(rank)"
   ]
  },
  {
   "cell_type": "code",
   "execution_count": 172,
   "metadata": {},
   "outputs": [],
   "source": [
    "import pickle\n",
    "\n",
    "path = '/Users/mhendriksen/Desktop/repositories/X-VLM/eval_ranks.pkl'\n",
    "\n",
    "with open(path, 'rb') as f:\n",
    "    ranks_abo_xvlm = pickle.load(f)"
   ]
  },
  {
   "cell_type": "code",
   "execution_count": 26,
   "metadata": {},
   "outputs": [
    {
     "ename": "NameError",
     "evalue": "name 'ranks_abo_xvlm' is not defined",
     "output_type": "error",
     "traceback": [
      "\u001b[0;31m---------------------------------------------------------------------------\u001b[0m",
      "\u001b[0;31mNameError\u001b[0m                                 Traceback (most recent call last)",
      "\u001b[0;32m/var/folders/nt/fm9xl6k13yx1mwgpy71sk8rw0000gp/T/ipykernel_6829/1520697210.py\u001b[0m in \u001b[0;36m<module>\u001b[0;34m\u001b[0m\n\u001b[0;32m----> 1\u001b[0;31m \u001b[0mranks_abo_xvlm\u001b[0m\u001b[0;34m[\u001b[0m\u001b[0;34m:\u001b[0m\u001b[0;36m5\u001b[0m\u001b[0;34m]\u001b[0m\u001b[0;34m\u001b[0m\u001b[0;34m\u001b[0m\u001b[0m\n\u001b[0m",
      "\u001b[0;31mNameError\u001b[0m: name 'ranks_abo_xvlm' is not defined"
     ]
    }
   ],
   "source": [
    "ranks_abo_xvlm[:5]"
   ]
  },
  {
   "cell_type": "code",
   "execution_count": 209,
   "metadata": {},
   "outputs": [
    {
     "name": "stdout",
     "output_type": "stream",
     "text": [
      "Ranks len: 2856\n"
     ]
    },
    {
     "data": {
      "text/plain": [
       "Ttest_relResult(statistic=185.7460001919619, pvalue=0.0)"
      ]
     },
     "execution_count": 209,
     "metadata": {},
     "output_type": "execute_result"
    }
   ],
   "source": [
    "from scipy.stats import ttest_rel\n",
    "\n",
    "def compute_ttest_rel(r1, r2):\n",
    "    min_len = min(len(r1), len(r2))\n",
    "    print('Ranks len:', min_len)\n",
    "\n",
    "    r1 = r1[:min_len]\n",
    "    r2 = r2[:min_len]\n",
    "\n",
    "    return ttest_rel(r1, r2)\n",
    "\n",
    "\n",
    "compute_ttest_rel(ranks_abo_clip, ranks_abo_xvlm)"
   ]
  },
  {
   "cell_type": "code",
   "execution_count": 201,
   "metadata": {},
   "outputs": [
    {
     "name": "stdout",
     "output_type": "stream",
     "text": [
      "Ttest_relResult(statistic=-0.31926339344047716, pvalue=0.7501994768664146)\n"
     ]
    }
   ],
   "source": [
    "import numpy as np\n",
    "from scipy.stats import ttest_ind, ttest_rel\n",
    "\n",
    "v1 = ranks_abo_clip\n",
    "v2 = ranks_abo_clip\n",
    "\n",
    "v1 = np.random.normal(size=100)\n",
    "v2 = np.random.normal(size=100)\n",
    "\n",
    "res = ttest_rel(v1, v2)\n",
    "\n",
    "print(res)"
   ]
  },
  {
   "cell_type": "code",
   "execution_count": 94,
   "metadata": {},
   "outputs": [
    {
     "name": "stdout",
     "output_type": "stream",
     "text": [
      "H0: The observations are coming from the SAME distribution\n",
      "H1: The observations are coming from DIFFERENT distributions\n",
      "Accept the null hypothesis\n",
      "i.e., the observatios are coming from the SAME distribution\n"
     ]
    }
   ],
   "source": [
    "alpha = 0.05\n",
    "\n",
    "print('H0: The observations are coming from the SAME distribution')\n",
    "print('H1: The observations are coming from DIFFERENT distributions')\n",
    "\n",
    "if res.pvalue <= alpha:\n",
    "    print('Reject the null hypothesis')\n",
    "    print('i.e., the observations are coming from DIFFERENT distribution')\n",
    "else:\n",
    "    print('Accept the null hypothesis')\n",
    "    print('i.e., the observatios are coming from the SAME distribution')"
   ]
  },
  {
   "cell_type": "code",
   "execution_count": 10,
   "metadata": {},
   "outputs": [
    {
     "data": {
      "text/html": [
       "<div>\n",
       "<style scoped>\n",
       "    .dataframe tbody tr th:only-of-type {\n",
       "        vertical-align: middle;\n",
       "    }\n",
       "\n",
       "    .dataframe tbody tr th {\n",
       "        vertical-align: top;\n",
       "    }\n",
       "\n",
       "    .dataframe thead th {\n",
       "        text-align: right;\n",
       "    }\n",
       "</style>\n",
       "<table border=\"1\" class=\"dataframe\">\n",
       "  <thead>\n",
       "    <tr style=\"text-align: right;\">\n",
       "      <th></th>\n",
       "      <th>image_file</th>\n",
       "      <th>class</th>\n",
       "      <th>eval_status</th>\n",
       "      <th>caption</th>\n",
       "    </tr>\n",
       "  </thead>\n",
       "  <tbody>\n",
       "    <tr>\n",
       "      <th>92829</th>\n",
       "      <td>160.Black_throated_Blue_Warbler/Black_Throated...</td>\n",
       "      <td>160.Black_throated_Blue_Warbler</td>\n",
       "      <td>test</td>\n",
       "      <td>this bird has a turquoise exterior and black w...</td>\n",
       "    </tr>\n",
       "    <tr>\n",
       "      <th>42690</th>\n",
       "      <td>075.Green_Jay/Green_Jay_0003_65767.jpg</td>\n",
       "      <td>075.Green_Jay</td>\n",
       "      <td>train</td>\n",
       "      <td>this bird looks exotic with a variety of color...</td>\n",
       "    </tr>\n",
       "    <tr>\n",
       "      <th>60044</th>\n",
       "      <td>104.American_Pipit/American_Pipit_0081_99785.jpg</td>\n",
       "      <td>104.American_Pipit</td>\n",
       "      <td>train</td>\n",
       "      <td>the bird has a black eyering and skinny black ...</td>\n",
       "    </tr>\n",
       "    <tr>\n",
       "      <th>72923</th>\n",
       "      <td>126.Nelson_Sharp_tailed_Sparrow/Nelson_Sharp_T...</td>\n",
       "      <td>126.Nelson_Sharp_tailed_Sparrow</td>\n",
       "      <td>train</td>\n",
       "      <td>this bird has a speckled belly and breast with...</td>\n",
       "    </tr>\n",
       "    <tr>\n",
       "      <th>73515</th>\n",
       "      <td>127.Savannah_Sparrow/Savannah_Sparrow_0118_118...</td>\n",
       "      <td>127.Savannah_Sparrow</td>\n",
       "      <td>train</td>\n",
       "      <td>this bird has a really small beak and a yellow...</td>\n",
       "    </tr>\n",
       "  </tbody>\n",
       "</table>\n",
       "</div>"
      ],
      "text/plain": [
       "                                              image_file  \\\n",
       "92829  160.Black_throated_Blue_Warbler/Black_Throated...   \n",
       "42690             075.Green_Jay/Green_Jay_0003_65767.jpg   \n",
       "60044   104.American_Pipit/American_Pipit_0081_99785.jpg   \n",
       "72923  126.Nelson_Sharp_tailed_Sparrow/Nelson_Sharp_T...   \n",
       "73515  127.Savannah_Sparrow/Savannah_Sparrow_0118_118...   \n",
       "\n",
       "                                 class eval_status  \\\n",
       "92829  160.Black_throated_Blue_Warbler        test   \n",
       "42690                    075.Green_Jay       train   \n",
       "60044               104.American_Pipit       train   \n",
       "72923  126.Nelson_Sharp_tailed_Sparrow       train   \n",
       "73515             127.Savannah_Sparrow       train   \n",
       "\n",
       "                                                 caption  \n",
       "92829  this bird has a turquoise exterior and black w...  \n",
       "42690  this bird looks exotic with a variety of color...  \n",
       "60044  the bird has a black eyering and skinny black ...  \n",
       "72923  this bird has a speckled belly and breast with...  \n",
       "73515  this bird has a really small beak and a yellow...  "
      ]
     },
     "execution_count": 10,
     "metadata": {},
     "output_type": "execute_result"
    }
   ],
   "source": [
    "# Done: csv to json_train\n",
    "# Done: csv to json test|val\n",
    "path_csv = '/Users/mhendriksen/Desktop/repositories/datasets/CUB_200_2011/cub_1_cap_per_img.csv'\n",
    "\n",
    "import pandas as pd\n",
    "\n",
    "df = pd.read_csv(path_csv, index_col=0)\n",
    "\n",
    "df.sample(5)"
   ]
  },
  {
   "cell_type": "code",
   "execution_count": 14,
   "metadata": {},
   "outputs": [],
   "source": [
    "# split dfs into train, test, dev\n",
    "df_train = df[df['eval_status'] == 'train']\n",
    "df_test = df[df['eval_status'] == 'test']\n",
    "df_val = df[df['eval_status'] == 'dev']"
   ]
  },
  {
   "cell_type": "code",
   "execution_count": 41,
   "metadata": {},
   "outputs": [
    {
     "name": "stdout",
     "output_type": "stream",
     "text": [
      "Got list with 5994 dicts\n"
     ]
    }
   ],
   "source": [
    "# caption: caption\n",
    "# image: image_file\n",
    "# image_id: id\n",
    "\n",
    "def csv_to_train_json_list(dataf, image_file_column, caption_column):\n",
    "    dicts_list = []\n",
    "    for idx, row in dataf.iterrows():\n",
    "        tmp_dict = {\n",
    "        'caption': row['caption'],\n",
    "        'image': row['image_file'],\n",
    "        'image_id': idx\n",
    "        }\n",
    "        dicts_list.append(tmp_dict)\n",
    "    assert len(dicts_list) == len(dataf)\n",
    "    print(f'Got list with {len(dicts_list)} dicts')\n",
    "    return dicts_list \n",
    "\n",
    "\n",
    "json_train_cub = csv_to_train_json_list(\n",
    "    df_train, image_file_column='image_file', caption_column='caption'\n",
    ")"
   ]
  },
  {
   "cell_type": "code",
   "execution_count": 223,
   "metadata": {},
   "outputs": [],
   "source": [
    "conf_file = '/Users/mhendriksen/Desktop/repositories/X-VLM/configs/data_conf.yaml'\n",
    "\n",
    "import yaml\n",
    "\n",
    "with open(conf_file) as file:\n",
    "        config_full = yaml.safe_load(file) "
   ]
  },
  {
   "cell_type": "code",
   "execution_count": 226,
   "metadata": {},
   "outputs": [],
   "source": [
    "config_full['test']['a'] = 1\n",
    "\n"
   ]
  },
  {
   "cell_type": "code",
   "execution_count": 227,
   "metadata": {},
   "outputs": [
    {
     "data": {
      "text/plain": [
       "1"
      ]
     },
     "execution_count": 227,
     "metadata": {},
     "output_type": "execute_result"
    }
   ],
   "source": [
    "config_full['test']['a']"
   ]
  },
  {
   "cell_type": "code",
   "execution_count": 71,
   "metadata": {},
   "outputs": [
    {
     "data": {
      "text/plain": [
       "{'dataset': 'cub',\n",
       " 'dataset_root': '/ivi/ilps/personal/mbiriuk/CUB_200_2011',\n",
       " 'csv_file': 'cub_1_cap_per_img.csv',\n",
       " 'image_folder': 'images',\n",
       " 'columns_dtypes': {'image_file': 'str',\n",
       "  'class': 'str',\n",
       "  'eval_status': 'str',\n",
       "  'caption': 'str'},\n",
       " 'content_type': {'image': 'image_file', 'text': 'caption'},\n",
       " 'clip_version': 'clip-ViT-L-14'}"
      ]
     },
     "execution_count": 71,
     "metadata": {},
     "output_type": "execute_result"
    }
   ],
   "source": [
    "config = config_full['cub']\n",
    "\n",
    "config"
   ]
  },
  {
   "cell_type": "code",
   "execution_count": 75,
   "metadata": {},
   "outputs": [
    {
     "name": "stdout",
     "output_type": "stream",
     "text": [
      "001.Black_footed_Albatross/Black_Footed_Albatross_0002_55.jpg\n",
      "001.Black_footed_Albatross/Black_Footed_Albatross_0003_796136.jpg\n",
      "001.Black_footed_Albatross/Black_Footed_Albatross_0008_796083.jpg\n",
      "001.Black_footed_Albatross/Black_Footed_Albatross_0016_796067.jpg\n",
      "001.Black_footed_Albatross/Black_Footed_Albatross_0042_796071.jpg\n",
      "001.Black_footed_Albatross/Black_Footed_Albatross_0050_796125.jpg\n",
      "001.Black_footed_Albatross/Black_Footed_Albatross_0053_796109.jpg\n",
      "001.Black_footed_Albatross/Black_Footed_Albatross_0058_796074.jpg\n",
      "001.Black_footed_Albatross/Black_Footed_Albatross_0064_796101.jpg\n",
      "001.Black_footed_Albatross/Black_Footed_Albatross_0082_796121.jpg\n"
     ]
    }
   ],
   "source": [
    "for _, row in df_test[:10].iterrows():\n",
    "    image_file_column = config['content_type']['image']\n",
    "    print(row[image_file_column])"
   ]
  },
  {
   "cell_type": "code",
   "execution_count": 78,
   "metadata": {},
   "outputs": [
    {
     "name": "stdout",
     "output_type": "stream",
     "text": [
      "Inside the func\n",
      "Got list with 2856 dicts\n",
      "Inside the func\n",
      "Got list with 2938 dicts\n"
     ]
    }
   ],
   "source": [
    "def csv_to_test_dev_json_list(dataf, image_file_column, caption_column):\n",
    "    print('Inside the func')\n",
    "    dicts_list = []\n",
    "    for _, row in dataf.iterrows():\n",
    "        tmp_dict = {\n",
    "        'image': row[image_file_column],\n",
    "        'caption': [row[caption_column]],\n",
    "        }\n",
    "        dicts_list.append(tmp_dict)\n",
    "    assert len(dicts_list) == len(dataf)\n",
    "    print(f'Got list with {len(dicts_list)} dicts')\n",
    "    return dicts_list\n",
    "\n",
    "json_test_cub = csv_to_test_dev_json_list(\n",
    "    df_test, image_file_column='image_file', caption_column='caption')\n",
    "\n",
    "image_col = config['content_type']['image']\n",
    "# text_col = \n",
    "json_val_cub = csv_to_test_dev_json_list(\n",
    "    df_val, image_file_column=config['content_type']['image'], caption_column=config['content_type']['text']\n",
    ")"
   ]
  },
  {
   "cell_type": "code",
   "execution_count": 47,
   "metadata": {},
   "outputs": [],
   "source": [
    "with open('train_cub.json', 'w+') as f:\n",
    "    json.dump(json_train_cub, f)\n"
   ]
  },
  {
   "cell_type": "code",
   "execution_count": 59,
   "metadata": {},
   "outputs": [
    {
     "name": "stdout",
     "output_type": "stream",
     "text": [
      "Saved data to  cub_train.json\n",
      "Saved data to  cub_test.json\n",
      "Saved data to  cub_val.json\n"
     ]
    },
    {
     "data": {
      "text/plain": [
       "\" with open('cub_train.json', 'w+') as f:\\n    json.dump(json_train_cub, f) \""
      ]
     },
     "execution_count": 59,
     "metadata": {},
     "output_type": "execute_result"
    }
   ],
   "source": [
    "def save_json(data, path):\n",
    "    with open(path, 'w+') as f:\n",
    "        json.dump(data, f)\n",
    "    print('Saved data to ', path)\n",
    "\n",
    "def load_json(path):\n",
    "    with open(path) as f:\n",
    "        data = json.load(f)\n",
    "    print('Loaded data from ', path)\n",
    "    return data\n",
    "\n",
    "\n",
    "save_json(data=json_train_cub, path='cub_train.json')\n",
    "save_json(json_test_cub, 'cub_test.json')\n",
    "save_json(json_val_cub, 'cub_val.json')\n",
    "\n",
    "\"\"\" with open('cub_train.json', 'w+') as f:\n",
    "    json.dump(json_train_cub, f) \"\"\""
   ]
  },
  {
   "cell_type": "code",
   "execution_count": null,
   "metadata": {},
   "outputs": [],
   "source": []
  },
  {
   "cell_type": "code",
   "execution_count": 56,
   "metadata": {},
   "outputs": [
    {
     "data": {
      "text/plain": [
       "list"
      ]
     },
     "execution_count": 56,
     "metadata": {},
     "output_type": "execute_result"
    }
   ],
   "source": [
    "type(json_train_cub)"
   ]
  },
  {
   "cell_type": "code",
   "execution_count": 29,
   "metadata": {},
   "outputs": [
    {
     "data": {
      "text/plain": [
       "['A man on a bicycle riding next to a train',\n",
       " 'A person is riding a bicycle but there is a train in the background.',\n",
       " 'a red and white train and a man riding a bicycle',\n",
       " 'a guy that is riding his bike next to a train',\n",
       " 'A man riding a bike past a train traveling along tracks.']"
      ]
     },
     "execution_count": 29,
     "metadata": {},
     "output_type": "execute_result"
    }
   ],
   "source": [
    "json_test[2]['caption']"
   ]
  }
 ],
 "metadata": {
  "kernelspec": {
   "display_name": "Python 3.7.13 ('xvlm')",
   "language": "python",
   "name": "python3"
  },
  "language_info": {
   "codemirror_mode": {
    "name": "ipython",
    "version": 3
   },
   "file_extension": ".py",
   "mimetype": "text/x-python",
   "name": "python",
   "nbconvert_exporter": "python",
   "pygments_lexer": "ipython3",
   "version": "3.7.13"
  },
  "orig_nbformat": 4,
  "vscode": {
   "interpreter": {
    "hash": "b8f427d99801431c3852b5d6c9aa049fa28fedbd8672e31e663d4278c439cfda"
   }
  }
 },
 "nbformat": 4,
 "nbformat_minor": 2
}
